{
  "nbformat": 4,
  "nbformat_minor": 0,
  "metadata": {
    "colab": {
      "provenance": [],
      "authorship_tag": "ABX9TyMZUZbfIlmURidbCyqspF2b",
      "include_colab_link": true
    },
    "kernelspec": {
      "name": "python3",
      "display_name": "Python 3"
    },
    "language_info": {
      "name": "python"
    }
  },
  "cells": [
    {
      "cell_type": "markdown",
      "metadata": {
        "id": "view-in-github",
        "colab_type": "text"
      },
      "source": [
        "<a href=\"https://colab.research.google.com/github/CypherTyphoon/Machine-KI_Learning/blob/main/Tag6_Montag_08042024.ipynb\" target=\"_parent\"><img src=\"https://colab.research.google.com/assets/colab-badge.svg\" alt=\"Open In Colab\"/></a>"
      ]
    },
    {
      "cell_type": "code",
      "execution_count": 1,
      "metadata": {
        "colab": {
          "base_uri": "https://localhost:8080/"
        },
        "id": "-bBJ4o4JkVlW",
        "outputId": "2f513bb0-a5b9-43f3-c26f-c14871a56da7"
      },
      "outputs": [
        {
          "output_type": "stream",
          "name": "stdout",
          "text": [
            "Stefan\n",
            "36\n",
            "1.75\n",
            "<class 'str'>\n",
            "<class 'int'>\n",
            "<class 'float'>\n"
          ]
        }
      ],
      "source": [
        "# 1. Variablen und Datentypen\n",
        "name = \"Stefan\"\n",
        "alter = 36\n",
        "groesse = 1.75\n",
        "\n",
        "# 2. Ausgabe von Variablen\n",
        "print(name)\n",
        "print(alter)\n",
        "print(groesse)\n",
        "\n",
        "# 3. Datentypkonbertierung\n",
        "alter_text = str(alter)\n",
        "groesse_integer = int(groesse)\n",
        "\n",
        "# 4 Typüberprüfung\n",
        "print(type(name))\n",
        "print(type(alter))\n",
        "print(type(groesse))\n"
      ]
    },
    {
      "cell_type": "markdown",
      "source": [],
      "metadata": {
        "id": "zINHSfm8rPG3"
      }
    },
    {
      "cell_type": "code",
      "source": [
        "# import pandas as pb\n",
        "import pandas as pd\n",
        "\n",
        "# list of strings\n",
        "lst = ['Geeks', 'For', 'Geeks', 'is', 'portal', 'for', 'Geeks']\n",
        "\n",
        "# Calling DataFrame constructor on list\n",
        "df = pd.DataFrame(lst)\n",
        "print(df)"
      ],
      "metadata": {
        "colab": {
          "base_uri": "https://localhost:8080/"
        },
        "id": "v3K8APHLoB2b",
        "outputId": "9a6872d3-6049-4894-c6fc-30c29dfcf9d8"
      },
      "execution_count": 3,
      "outputs": [
        {
          "output_type": "stream",
          "name": "stdout",
          "text": [
            "        0\n",
            "0   Geeks\n",
            "1     For\n",
            "2   Geeks\n",
            "3      is\n",
            "4  portal\n",
            "5     for\n",
            "6   Geeks 0 3\n"
          ]
        }
      ]
    },
    {
      "cell_type": "code",
      "source": [
        "# import pandas as pb\n",
        "import pandas as pd\n",
        "\n",
        "# list of strings\n",
        "data = {'Name':['tom', 'nick', 'krish', 'jack'],\n",
        "        'Age':[20, 21, 19, 18]}\n",
        "\n",
        "# Calling DataFrame constructor on list\n",
        "df = pd.DataFrame(data)\n",
        "print(df)"
      ],
      "metadata": {
        "colab": {
          "base_uri": "https://localhost:8080/"
        },
        "id": "wttqzvUwsK59",
        "outputId": "07044db3-aaf1-40c9-e2cd-299d9a611442"
      },
      "execution_count": 6,
      "outputs": [
        {
          "output_type": "stream",
          "name": "stdout",
          "text": [
            "    Name  Age\n",
            "0    tom   20\n",
            "1   nick   21\n",
            "2  krish   19\n",
            "3   jack   18\n"
          ]
        }
      ]
    },
    {
      "cell_type": "code",
      "source": [
        "# import pandas as pb\n",
        "import pandas as pd\n",
        "\n",
        "# list of strings\n",
        "data = {'name':['Jai', 'Princi', 'Gaurav', 'Anju'],\n",
        "        'age':[27, 24, 22, 32],\n",
        "        'address':['Dehli', 'Kanpur', 'Allahabad', 'Kannauj'],\n",
        "        'qualification':['Msc', 'MA', 'MCA', 'Phd']}\n",
        "\n",
        "# Convert\n",
        "df = pd.DataFrame(data)\n",
        "\n",
        "# Calling DataFrame constructor on list\n",
        "print(df[['name', 'qualification']])"
      ],
      "metadata": {
        "colab": {
          "base_uri": "https://localhost:8080/"
        },
        "id": "n-megR5_tdgc",
        "outputId": "8035759b-6059-4247-a736-06b4aee9a978"
      },
      "execution_count": 8,
      "outputs": [
        {
          "output_type": "stream",
          "name": "stdout",
          "text": [
            "     name qualification\n",
            "0     Jai           Msc\n",
            "1  Princi            MA\n",
            "2  Gaurav           MCA\n",
            "3    Anju           Phd\n"
          ]
        }
      ]
    }
  ]
}