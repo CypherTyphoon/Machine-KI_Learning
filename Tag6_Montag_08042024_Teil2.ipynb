{
  "nbformat": 4,
  "nbformat_minor": 0,
  "metadata": {
    "colab": {
      "provenance": [],
      "authorship_tag": "ABX9TyPtRrw12DFu+F/vzkyHRQOi",
      "include_colab_link": true
    },
    "kernelspec": {
      "name": "python3",
      "display_name": "Python 3"
    },
    "language_info": {
      "name": "python"
    }
  },
  "cells": [
    {
      "cell_type": "markdown",
      "metadata": {
        "id": "view-in-github",
        "colab_type": "text"
      },
      "source": [
        "<a href=\"https://colab.research.google.com/github/CypherTyphoon/Machine-KI_Learning/blob/main/Tag6_Montag_08042024_Teil2.ipynb\" target=\"_parent\"><img src=\"https://colab.research.google.com/assets/colab-badge.svg\" alt=\"Open In Colab\"/></a>"
      ]
    },
    {
      "cell_type": "code",
      "execution_count": 11,
      "metadata": {
        "colab": {
          "base_uri": "https://localhost:8080/"
        },
        "id": "LR_jpmkOyS64",
        "outputId": "3681ebb9-8cd1-4140-f856-10734fddb4b6"
      },
      "outputs": [
        {
          "output_type": "stream",
          "name": "stdout",
          "text": [
            "              year  imdb_rating\n",
            "count   219.000000   219.000000\n",
            "mean   2002.972603     6.988584\n",
            "std      11.157306     0.969066\n",
            "min    1937.000000     4.200000\n",
            "25%    1999.000000     6.400000\n",
            "50%    2006.000000     7.100000\n",
            "75%    2011.000000     7.700000\n",
            "max    2015.000000     9.000000\n"
          ]
        }
      ],
      "source": [
        "import pandas as pd\n",
        "\n",
        "df = pd.read_csv(\"imdb.csv\")\n",
        "\n",
        "#print(df)\n",
        "\n",
        "# Inspect\n",
        "#print(df.head())\n",
        "#print(df.info())\n",
        "#print(df.describe())"
      ]
    }
  ]
}