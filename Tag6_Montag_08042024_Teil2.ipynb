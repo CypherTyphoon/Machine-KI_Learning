{
  "nbformat": 4,
  "nbformat_minor": 0,
  "metadata": {
    "colab": {
      "provenance": [],
      "authorship_tag": "ABX9TyMYGNZBBOP0Ni8VVhqsG7y7",
      "include_colab_link": true
    },
    "kernelspec": {
      "name": "python3",
      "display_name": "Python 3"
    },
    "language_info": {
      "name": "python"
    }
  },
  "cells": [
    {
      "cell_type": "markdown",
      "metadata": {
        "id": "view-in-github",
        "colab_type": "text"
      },
      "source": [
        "<a href=\"https://colab.research.google.com/github/CypherTyphoon/Machine-KI_Learning/blob/main/Tag6_Montag_08042024_Teil2.ipynb\" target=\"_parent\"><img src=\"https://colab.research.google.com/assets/colab-badge.svg\" alt=\"Open In Colab\"/></a>"
      ]
    },
    {
      "cell_type": "code",
      "execution_count": 16,
      "metadata": {
        "colab": {
          "base_uri": "https://localhost:8080/"
        },
        "id": "LR_jpmkOyS64",
        "outputId": "8995647a-8082-421b-de03-39c807d57c8e"
      },
      "outputs": [
        {
          "output_type": "stream",
          "name": "stdout",
          "text": [
            "  id                                       name   genre    year  imdb_rating\n",
            "2  3                               The Avengers  action  2012.0          8.1\n",
            "3  4                            The Dark Knight  action  2008.0          9.0\n",
            "4  5  Star Wars: Episode I - The Phantom Menace  action  1999.0          6.6\n"
          ]
        }
      ],
      "source": [
        "import pandas as pd\n",
        "\n",
        "df = pd.read_csv(\"imdb.csv\")\n",
        "\n",
        "# print(df)\n",
        "\n",
        "# Inspect\n",
        "# print(df.head())\n",
        "# print(df.info())\n",
        "# print(df.describe())\n",
        "\n",
        "#Select a column\n",
        "#print(df[\"name\"])\n",
        "\n",
        "#Select multiple columns\n",
        "# ab = df[[\"name\", \"imdb_rating\"]]\n",
        "#  print(ab)\n",
        "\n",
        "#Select a specific row\n",
        "# print(df.iloc[2])\n",
        "\n",
        "#Select multiple rows\n",
        "print(df.loc[2:4])"
      ]
    },
    {
      "cell_type": "code",
      "source": [],
      "metadata": {
        "id": "OIQZ6xXO1vsO"
      },
      "execution_count": null,
      "outputs": []
    }
  ]
}