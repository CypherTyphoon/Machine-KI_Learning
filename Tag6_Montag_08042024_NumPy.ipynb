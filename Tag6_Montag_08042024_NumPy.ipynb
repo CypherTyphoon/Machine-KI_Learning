{
  "nbformat": 4,
  "nbformat_minor": 0,
  "metadata": {
    "colab": {
      "provenance": [],
      "authorship_tag": "ABX9TyMnQfYr/2B1aUhvLXurvAEO",
      "include_colab_link": true
    },
    "kernelspec": {
      "name": "python3",
      "display_name": "Python 3"
    },
    "language_info": {
      "name": "python"
    }
  },
  "cells": [
    {
      "cell_type": "markdown",
      "metadata": {
        "id": "view-in-github",
        "colab_type": "text"
      },
      "source": [
        "<a href=\"https://colab.research.google.com/github/CypherTyphoon/Machine-KI_Learning/blob/main/Tag6_Montag_08042024_NumPy.ipynb\" target=\"_parent\"><img src=\"https://colab.research.google.com/assets/colab-badge.svg\" alt=\"Open In Colab\"/></a>"
      ]
    },
    {
      "cell_type": "code",
      "execution_count": 3,
      "metadata": {
        "colab": {
          "base_uri": "https://localhost:8080/"
        },
        "id": "O-YjEPzJ6-AZ",
        "outputId": "a0cf5684-ceaa-4dc0-c95d-382f161738de"
      },
      "outputs": [
        {
          "output_type": "stream",
          "name": "stdout",
          "text": [
            "Python-Liste: [1, 2, 3, 4, 5]\n",
            "Python-Liste mal 2: [2, 4, 6, 8, 10]\n",
            "NumPy: [1 2 3 4 5]\n",
            "NumPy-Array mal 2: [ 2  4  6  8 10]\n"
          ]
        }
      ],
      "source": [
        "import pandas as pd\n",
        "\n",
        "df = pd.read_csv(\"imdb.csv\")\n",
        "\n",
        "# Verwendung von Python-Listen\n",
        "python_list = [1, 2, 3, 4, 5]\n",
        "print(\"Python-Liste:\", python_list)\n",
        "\n",
        "#Multiplikation mit einem Skalar\n",
        "python_list_times_2 = [x * 2 for x in python_list]\n",
        "print(\"Python-Liste mal 2:\", python_list_times_2)\n",
        "\n",
        "# Verwendung von NumPy-Arrays\n",
        "import numpy as np\n",
        "\n",
        "numpy_array = np.array([1, 2, 3, 4, 5])\n",
        "print(\"NumPy:\" ,numpy_array)\n",
        "\n",
        "# Multiplikation mit einem Skalar\n",
        "numpy_array_times_2 = numpy_array * 2\n",
        "print(\"NumPy-Array mal 2:\", numpy_array_times_2)"
      ]
    }
  ]
}